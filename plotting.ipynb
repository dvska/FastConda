{
 "cells": [
  {
   "cell_type": "code",
   "execution_count": 85,
   "metadata": {
    "collapsed": true
   },
   "outputs": [],
   "source": [
    "from matplotlib import pyplot as plt\n",
    "import numpy as np\n",
    "%matplotlib inline"
   ]
  },
  {
   "cell_type": "code",
   "execution_count": 86,
   "metadata": {
    "collapsed": true
   },
   "outputs": [],
   "source": [
    "targets = ['alpine','fastconda','official','revsys','miniconda', 'intel']\n",
    "django1_result = np.array([0.6692, 0.528033333333333, 0.638883333333333, 0.607616666666667, 0.5707, 0.6723])\n",
    "django2_result = np.array([0.735166666666667, 0.584866666666667, 0.695633333333333, 0.636516666666667, 0.599416666666667, 0.722033333333333])"
   ]
  },
  {
   "cell_type": "code",
   "execution_count": 87,
   "metadata": {},
   "outputs": [],
   "source": [
    "relative_performance1 = django1_result[2] / django1_result\n",
    "relative_performance2 = django2_result[2] / django2_result"
   ]
  },
  {
   "cell_type": "code",
   "execution_count": 88,
   "metadata": {},
   "outputs": [
    {
     "data": {
      "text/plain": [
       "<matplotlib.figure.Figure at 0x11af25da0>"
      ]
     },
     "metadata": {},
     "output_type": "display_data"
    },
    {
     "data": {
      "image/png": "[encoded data removed]",
      "text/plain": [
       "<matplotlib.figure.Figure at 0x11a337128>"
      ]
     },
     "metadata": {},
     "output_type": "display_data"
    }
   ],
   "source": [
    "N = len(targets)\n",
    "ind = np.arange(N)  # the x locations for the groups\n",
    "width = 0.35 # the width of the bars\n",
    "\n",
    "plt.figure(figsize=(20, 6))\n",
    "fig, ax = plt.subplots(figsize=(8, 4.5))\n",
    "rects1 = ax.barh(ind, relative_performance1, width, color='#3498db')\n",
    "rects2 = ax.barh(ind + width, relative_performance2, width, color='#2ecc71')\n",
    "\n",
    "ax.set_title('Relative Performance (higher is better)')\n",
    "ax.set_yticks(ind + width / 2)\n",
    "ax.set_yticklabels(targets)\n",
    "ax.set_xlim((0., 1.4))\n",
    "\n",
    "ax.legend((rects2[0], rects1[0]), ('Django 2.0', 'Django 1.11'), loc=4)\n",
    "\n",
    "def autolabel(rects):\n",
    "    \"\"\"\n",
    "    Attach a text label above each bar displaying its height\n",
    "    \"\"\"\n",
    "    for rect in rects:\n",
    "        ax.text(rect.get_x() + rect.get_width() + 0.2 * rect.get_height()  , rect.get_y() + 0.05 * rect.get_height(),\n",
    "                '%.2f' % rect.get_width(),\n",
    "                ha='center', va='bottom', fontdict={'size': 8})\n",
    "\n",
    "autolabel(rects1)\n",
    "autolabel(rects2)\n",
    "\n",
    "plt.savefig('plot.png', dpi=300)"
   ]
  }
 ],
 "metadata": {
  "kernelspec": {
   "display_name": "Python 3",
   "language": "python",
   "name": "python3"
  },
  "language_info": {
   "codemirror_mode": {
    "name": "ipython",
    "version": 3
   },
   "file_extension": ".py",
   "mimetype": "text/x-python",
   "name": "python",
   "nbconvert_exporter": "python",
   "pygments_lexer": "ipython3",
   "version": "3.6.3"
  }
 },
 "nbformat": 4,
 "nbformat_minor": 2
}
